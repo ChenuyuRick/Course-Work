{
 "cells": [
  {
   "cell_type": "markdown",
   "metadata": {},
   "source": [
    "# HW5 Chenyu Wang"
   ]
  },
  {
   "cell_type": "markdown",
   "metadata": {},
   "source": [
    "# Problem 1"
   ]
  },
  {
   "cell_type": "markdown",
   "metadata": {},
   "source": [
    "### Q1 : Initially assume $\\gamma= 0$, and derive the expressions for Eurodollar futures rate in the above model"
   ]
  },
  {
   "cell_type": "markdown",
   "metadata": {},
   "source": [
    "#### Step1 : Find the ODE"
   ]
  },
  {
   "cell_type": "markdown",
   "metadata": {},
   "source": [
    "From the question, we can get the information that:\n",
    "$$\n",
    "dr(t) = {\\mu - \\kappa r(t)}dt + \\sqrt{\\gamma r(t) + \\sigma}dW(t)\n",
    "$$\n",
    "Now, Let's suppose that the price of P can be written as:\n",
    "$$\n",
    "p(t,T) = e^{A(t,T) - B(t, T)r(t)}\n",
    "$$\n",
    "Apply Ito's Lemma:\n",
    "$$\n",
    "dp(t,T) = \\frac{\\partial p(t,T)}{\\partial t}dt + \\frac{\\partial p(t,T)}{\\partial r}dr + \\frac{1}{2}\\frac{\\partial^2 p(t,T)}{\\partial r^2}(dr)^2\n",
    "$$\n",
    "Individually, we can sovle the partial derivatives and get the result:\n",
    "$$\n",
    "\\frac{\\partial p(t,T)}{\\partial t} = (\\frac{dA(t,T)}{dt} - r(t)\\frac{dB(t,T)}{dt})p(t,T)\n",
    "$$\n",
    "$$\n",
    "\\frac{\\partial p(t,T)}{\\partial r} = -B(t,T)p(t,T)\n",
    "$$\n",
    "$$\n",
    "\\frac{\\partial^2 p(t,T)}{\\partial r^2} = B^2(t,T)p(t,T)\n",
    "$$\n",
    "Now, plug in the result above, we get that:\n",
    "$$\n",
    "\\frac{dp(t,T)}{p(t,T)} = (\\frac{dA(t,T)}{dt} - r(t)\\frac{dB(t,T)}{dt})dt - B(t,T)[(\\mu - \\kappa r(t))dt + \\sqrt{\\gamma r(t) + \\sigma}dW(t)]+ \\frac{1}{2}B^2(t,T)(\\gamma r(t) + \\sigma)dt\n",
    "$$\n",
    "rearange the terms in the equation, we get:\n",
    "$$\n",
    "\\frac{dp(t,T)}{p(t,T)} = [\\frac{dA(t,T)}{dt}-r(t)\\frac{dB(t,T)}{dt} - B(t,T)(\\mu - \\kappa r(t)) + \\frac{1}{2}B^2(t,T)(\\gamma r(t) + \\sigma)]dt-B(t,T)\\sqrt{\\gamma r(t) + \\sigma}dW(t)\n",
    "$$\n",
    "Under the risk-neutral measure, we have:\n",
    "$$\n",
    "\\frac{dA(t,T)}{dt}-r(t)\\frac{dB(t,T)}{dt} - B(t,T)(\\mu - \\kappa r(t)) + \\frac{1}{2}B^2(t,T)(\\gamma r(t) + \\sigma) = r\n",
    "$$\n",
    "Then we can get the following equations:\n",
    "$$\n",
    "\\frac{dA(t,T)}{dt} - B(t,T)\\mu + \\frac{1}{2}B^2(t,T)\\sigma = (1+\\frac{dB(t,T)}{dt}-\\kappa B(t,T)-\\frac{1}{2}B^2(t,T)\\gamma)r(t)\n",
    "$$\n",
    "In order to satisfy the equation above, we should satisfy the following two equations:\n",
    "$$\n",
    "\\frac{dA(t,T)}{dt}-B(t,T)\\mu + \\frac{1}{2}\\sigma B^2(t,T) = 0\n",
    "$$\n",
    "$$\n",
    "\\frac{dB(t,T)}{dt}-\\kappa B(t,T)-\\frac{1}{2}\\gamma B^2(t,T) + 1 = 0\n",
    "$$"
   ]
  },
  {
   "cell_type": "markdown",
   "metadata": {},
   "source": [
    "#### Step2 : Solve the ODE"
   ]
  },
  {
   "cell_type": "markdown",
   "metadata": {},
   "source": [
    "Accprding to the question, we initial $\\gamma = 0$, so what we should do next is to solve the ODE, and we get:\n",
    "$$\n",
    "B(t,T) = \\frac{1}{\\kappa}-\\frac{1}{\\kappa}e^{-\\kappa(T-t)}\n",
    "$$\n",
    "$$\n",
    "A(t,T) = -(\\frac{\\mu}{\\kappa}-\\frac{\\sigma}{2\\kappa^2})(T-t)+(\\frac{\\mu}{\\kappa^2}-\\frac{3\\sigma}{4\\kappa^3})-(\\frac{\\mu}{\\kappa^2}-\\frac{\\sigma}{\\kappa^3})e^{-\\kappa(T-t)}-\\frac{\\sigma}{4\\kappa^3}e^{-2\\kappa(T-t)}\n",
    "$$"
   ]
  },
  {
   "cell_type": "markdown",
   "metadata": {},
   "source": [
    "#### Step3 : Find the relationship between zero coupon bond and Eurodollar future rate"
   ]
  },
  {
   "cell_type": "markdown",
   "metadata": {},
   "source": [
    "$$\n",
    "F_{t}=\\frac{1}{\\delta}E_{t}^{Q}[\\frac{p(T_{0},T_{1})}{p(T_{0},T_{2})}] - \\frac{1}{\\delta}\n",
    "$$\n",
    "$$\n",
    "F_{t} = \\frac{1}{\\delta}E_{t}^{Q}[e^{A(T_0,T_1)-A(T_0,T_2)-[B(T_0,T_1)-B(T_0,T_2)]r(T_0)}]-\\frac{1}{\\delta}\n",
    "$$"
   ]
  },
  {
   "cell_type": "markdown",
   "metadata": {},
   "source": [
    "#### Step4 : Solve the expectation"
   ]
  },
  {
   "cell_type": "markdown",
   "metadata": {},
   "source": [
    "First, we know that $\\gamma = 0$, So the dynamics of r is:\n",
    "$$\n",
    "dr(t) = (\\mu - \\kappa r(t))dt + \\sqrt{\\sigma} dW(t)\n",
    "$$\n",
    "Multiply $e^{\\kappa t}$ on both sides of the equation and rearrange it:\n",
    "$$\n",
    "e^{\\kappa t}dr(t) + \\kappa r(t)e^{\\kappa t}dt = e^{\\kappa t}\\mu dt + \\sqrt{\\sigma}e^{\\kappa t}dW(t)\n",
    "$$\n",
    "And now we can find that the left hand side of the equation is:\n",
    "$$\n",
    "e^{\\kappa t}dr(t) + \\kappa r(t)e^{\\kappa t}dt = d(e^{\\kappa t}r(t))\n",
    "$$\n",
    "So, we integral both sides of the equation and finally get the expression of r(t):\n",
    "$$\n",
    "r(t) = r(0)e^{-\\kappa t} + \\frac{\\mu}{\\kappa}[1-e^{-\\kappa t}]+\\sqrt{\\sigma}\\int_{0}^{t}e^{-\\kappa(t-s)}dW_s\n",
    "$$"
   ]
  },
  {
   "cell_type": "markdown",
   "metadata": {},
   "source": [
    "So we can know that the expectation and variance of $r(t)$ is:\n",
    "$$\n",
    "E_{t}^{Q}[r(T_0)]=r(0)e^{-\\kappa T_{0}}+\\frac{\\mu}{\\kappa}[1-e^{-\\kappa T_{0}}]\n",
    "$$\n",
    "$$\n",
    "Var_{t}^{Q}[r(T_0)]=\\frac{\\sigma}{2\\kappa}(1-e^{-2\\kappa T_0})\n",
    "$$"
   ]
  },
  {
   "cell_type": "markdown",
   "metadata": {},
   "source": [
    "Plug in the result and get the final equation:\n",
    "$$\n",
    "F_{t} = \\frac{1}{\\delta}e^{A(T_0,T_1)-A(T_0,T_2)}e^{-[B(T_0,T_1)-B(T_0,T_2)]E_{t}^{Q}[r(T_0)]+\\frac{1}{2}[B(T_0,T_1)-B(T_0,T_2)]^2Var_{t}^{Q}[r(T_0)]} - \\frac{1}{\\delta}\n",
    "$$"
   ]
  },
  {
   "cell_type": "markdown",
   "metadata": {},
   "source": [
    "### Q2 : Build a Jupyter Notebook to demonstrate your calculations using $\\mu= 0.005$; $r(0)=0.015$, $\\kappa=0.1$, $\\sigma= 0.008$; $\\gamma= 0.0$"
   ]
  },
  {
   "cell_type": "code",
   "execution_count": 1,
   "metadata": {},
   "outputs": [],
   "source": [
    "import numpy as np\n",
    "import pandas as pd\n",
    "import matplotlib.pyplot as plt\n",
    "import QuantLib as ql\n",
    "import quandl"
   ]
  },
  {
   "cell_type": "code",
   "execution_count": 2,
   "metadata": {},
   "outputs": [
    {
     "data": {
      "text/html": [
       "<div>\n",
       "<style scoped>\n",
       "    .dataframe tbody tr th:only-of-type {\n",
       "        vertical-align: middle;\n",
       "    }\n",
       "\n",
       "    .dataframe tbody tr th {\n",
       "        vertical-align: top;\n",
       "    }\n",
       "\n",
       "    .dataframe thead th {\n",
       "        text-align: right;\n",
       "    }\n",
       "</style>\n",
       "<table border=\"1\" class=\"dataframe\">\n",
       "  <thead>\n",
       "    <tr style=\"text-align: right;\">\n",
       "      <th></th>\n",
       "      <th>Settle_ED1</th>\n",
       "      <th>Settle_ED2</th>\n",
       "      <th>Settle_ED3</th>\n",
       "      <th>Settle_ED4</th>\n",
       "      <th>Settle_ED5</th>\n",
       "      <th>Settle_ED6</th>\n",
       "      <th>Settle_ED7</th>\n",
       "      <th>Settle_ED8</th>\n",
       "      <th>Settle_ED9</th>\n",
       "      <th>Settle_ED10</th>\n",
       "      <th>Settle_ED11</th>\n",
       "      <th>Settle_ED12</th>\n",
       "      <th>Settle_ED13</th>\n",
       "      <th>Settle_ED14</th>\n",
       "      <th>Settle_ED15</th>\n",
       "      <th>Settle_ED16</th>\n",
       "      <th>Settle_ED17</th>\n",
       "      <th>Settle_ED18</th>\n",
       "      <th>Settle_ED19</th>\n",
       "      <th>Settle_ED20</th>\n",
       "    </tr>\n",
       "    <tr>\n",
       "      <th>Date</th>\n",
       "      <th></th>\n",
       "      <th></th>\n",
       "      <th></th>\n",
       "      <th></th>\n",
       "      <th></th>\n",
       "      <th></th>\n",
       "      <th></th>\n",
       "      <th></th>\n",
       "      <th></th>\n",
       "      <th></th>\n",
       "      <th></th>\n",
       "      <th></th>\n",
       "      <th></th>\n",
       "      <th></th>\n",
       "      <th></th>\n",
       "      <th></th>\n",
       "      <th></th>\n",
       "      <th></th>\n",
       "      <th></th>\n",
       "      <th></th>\n",
       "    </tr>\n",
       "  </thead>\n",
       "  <tbody>\n",
       "    <tr>\n",
       "      <th>2019-05-09</th>\n",
       "      <td>97.4750</td>\n",
       "      <td>97.54</td>\n",
       "      <td>97.565</td>\n",
       "      <td>97.680</td>\n",
       "      <td>97.765</td>\n",
       "      <td>97.830</td>\n",
       "      <td>97.845</td>\n",
       "      <td>97.880</td>\n",
       "      <td>97.870</td>\n",
       "      <td>97.865</td>\n",
       "      <td>97.845</td>\n",
       "      <td>97.830</td>\n",
       "      <td>97.800</td>\n",
       "      <td>97.775</td>\n",
       "      <td>97.745</td>\n",
       "      <td>97.720</td>\n",
       "      <td>97.685</td>\n",
       "      <td>97.650</td>\n",
       "      <td>97.610</td>\n",
       "      <td>97.580</td>\n",
       "    </tr>\n",
       "    <tr>\n",
       "      <th>2019-05-10</th>\n",
       "      <td>97.4850</td>\n",
       "      <td>97.56</td>\n",
       "      <td>97.585</td>\n",
       "      <td>97.700</td>\n",
       "      <td>97.780</td>\n",
       "      <td>97.845</td>\n",
       "      <td>97.850</td>\n",
       "      <td>97.880</td>\n",
       "      <td>97.870</td>\n",
       "      <td>97.865</td>\n",
       "      <td>97.840</td>\n",
       "      <td>97.825</td>\n",
       "      <td>97.795</td>\n",
       "      <td>97.770</td>\n",
       "      <td>97.740</td>\n",
       "      <td>97.715</td>\n",
       "      <td>97.680</td>\n",
       "      <td>97.645</td>\n",
       "      <td>97.605</td>\n",
       "      <td>97.575</td>\n",
       "    </tr>\n",
       "    <tr>\n",
       "      <th>2019-05-13</th>\n",
       "      <td>97.5025</td>\n",
       "      <td>97.61</td>\n",
       "      <td>97.655</td>\n",
       "      <td>97.790</td>\n",
       "      <td>97.880</td>\n",
       "      <td>97.945</td>\n",
       "      <td>97.945</td>\n",
       "      <td>97.970</td>\n",
       "      <td>97.955</td>\n",
       "      <td>97.945</td>\n",
       "      <td>97.920</td>\n",
       "      <td>97.900</td>\n",
       "      <td>97.865</td>\n",
       "      <td>97.835</td>\n",
       "      <td>97.805</td>\n",
       "      <td>97.775</td>\n",
       "      <td>97.740</td>\n",
       "      <td>97.705</td>\n",
       "      <td>97.665</td>\n",
       "      <td>97.630</td>\n",
       "    </tr>\n",
       "    <tr>\n",
       "      <th>2019-05-14</th>\n",
       "      <td>97.4975</td>\n",
       "      <td>97.61</td>\n",
       "      <td>97.650</td>\n",
       "      <td>97.785</td>\n",
       "      <td>97.875</td>\n",
       "      <td>97.935</td>\n",
       "      <td>97.940</td>\n",
       "      <td>97.965</td>\n",
       "      <td>97.950</td>\n",
       "      <td>97.940</td>\n",
       "      <td>97.915</td>\n",
       "      <td>97.895</td>\n",
       "      <td>97.865</td>\n",
       "      <td>97.835</td>\n",
       "      <td>97.805</td>\n",
       "      <td>97.775</td>\n",
       "      <td>97.740</td>\n",
       "      <td>97.705</td>\n",
       "      <td>97.665</td>\n",
       "      <td>97.630</td>\n",
       "    </tr>\n",
       "    <tr>\n",
       "      <th>2019-05-15</th>\n",
       "      <td>97.4975</td>\n",
       "      <td>97.62</td>\n",
       "      <td>97.680</td>\n",
       "      <td>97.830</td>\n",
       "      <td>97.930</td>\n",
       "      <td>97.995</td>\n",
       "      <td>98.000</td>\n",
       "      <td>98.030</td>\n",
       "      <td>98.015</td>\n",
       "      <td>98.005</td>\n",
       "      <td>97.975</td>\n",
       "      <td>97.955</td>\n",
       "      <td>97.925</td>\n",
       "      <td>97.895</td>\n",
       "      <td>97.860</td>\n",
       "      <td>97.830</td>\n",
       "      <td>97.795</td>\n",
       "      <td>97.760</td>\n",
       "      <td>97.720</td>\n",
       "      <td>97.685</td>\n",
       "    </tr>\n",
       "  </tbody>\n",
       "</table>\n",
       "</div>"
      ],
      "text/plain": [
       "            Settle_ED1  Settle_ED2  Settle_ED3  Settle_ED4  Settle_ED5  \\\n",
       "Date                                                                     \n",
       "2019-05-09     97.4750       97.54      97.565      97.680      97.765   \n",
       "2019-05-10     97.4850       97.56      97.585      97.700      97.780   \n",
       "2019-05-13     97.5025       97.61      97.655      97.790      97.880   \n",
       "2019-05-14     97.4975       97.61      97.650      97.785      97.875   \n",
       "2019-05-15     97.4975       97.62      97.680      97.830      97.930   \n",
       "\n",
       "            Settle_ED6  Settle_ED7  Settle_ED8  Settle_ED9  Settle_ED10  \\\n",
       "Date                                                                      \n",
       "2019-05-09      97.830      97.845      97.880      97.870       97.865   \n",
       "2019-05-10      97.845      97.850      97.880      97.870       97.865   \n",
       "2019-05-13      97.945      97.945      97.970      97.955       97.945   \n",
       "2019-05-14      97.935      97.940      97.965      97.950       97.940   \n",
       "2019-05-15      97.995      98.000      98.030      98.015       98.005   \n",
       "\n",
       "            Settle_ED11  Settle_ED12  Settle_ED13  Settle_ED14  Settle_ED15  \\\n",
       "Date                                                                          \n",
       "2019-05-09       97.845       97.830       97.800       97.775       97.745   \n",
       "2019-05-10       97.840       97.825       97.795       97.770       97.740   \n",
       "2019-05-13       97.920       97.900       97.865       97.835       97.805   \n",
       "2019-05-14       97.915       97.895       97.865       97.835       97.805   \n",
       "2019-05-15       97.975       97.955       97.925       97.895       97.860   \n",
       "\n",
       "            Settle_ED16  Settle_ED17  Settle_ED18  Settle_ED19  Settle_ED20  \n",
       "Date                                                                         \n",
       "2019-05-09       97.720       97.685       97.650       97.610       97.580  \n",
       "2019-05-10       97.715       97.680       97.645       97.605       97.575  \n",
       "2019-05-13       97.775       97.740       97.705       97.665       97.630  \n",
       "2019-05-14       97.775       97.740       97.705       97.665       97.630  \n",
       "2019-05-15       97.830       97.795       97.760       97.720       97.685  "
      ]
     },
     "execution_count": 2,
     "metadata": {},
     "output_type": "execute_result"
    }
   ],
   "source": [
    "token = \"su-Y2qYf7QBdkC42qmT3\"\n",
    "n = range(1,21)\n",
    "nms = [\"CHRIS/CME_ED\"+str(i) for i in n]\n",
    "dfs = [quandl.get(nm, authtoken=token) for nm in nms]\n",
    "dfs_settle = []\n",
    "name_list = []\n",
    "for i in range(len(dfs)):\n",
    "    dfs_settle.append(dfs[i]['Settle'])\n",
    "    name_list.append('Settle_ED' + str(i+1))\n",
    "df = pd.concat(dfs_settle, axis = 1)\n",
    "df.columns = name_list\n",
    "df.tail()"
   ]
  },
  {
   "cell_type": "code",
   "execution_count": 3,
   "metadata": {},
   "outputs": [
    {
     "data": {
      "text/plain": [
       "Settle_ED1     98.4475\n",
       "Settle_ED2     98.2800\n",
       "Settle_ED3     98.1350\n",
       "Settle_ED4     98.0500\n",
       "Settle_ED5     97.9850\n",
       "Settle_ED6     97.9400\n",
       "Settle_ED7     97.9000\n",
       "Settle_ED8     97.8650\n",
       "Settle_ED9     97.8200\n",
       "Settle_ED10    97.8050\n",
       "Settle_ED11    97.7850\n",
       "Settle_ED12    97.7650\n",
       "Settle_ED13    97.7250\n",
       "Settle_ED14    97.7050\n",
       "Settle_ED15    97.6800\n",
       "Settle_ED16    97.6550\n",
       "Settle_ED17    97.6200\n",
       "Settle_ED18    97.6050\n",
       "Settle_ED19    97.5800\n",
       "Settle_ED20    97.5550\n",
       "Name: 2017-11-27 00:00:00, dtype: float64"
      ]
     },
     "execution_count": 3,
     "metadata": {},
     "output_type": "execute_result"
    }
   ],
   "source": [
    "df.loc['2017-11-27']"
   ]
  },
  {
   "cell_type": "code",
   "execution_count": 4,
   "metadata": {},
   "outputs": [],
   "source": [
    "class Model:\n",
    "    def __init__(self,r0,mu,kappa,vol):\n",
    "        self.r0 = r0\n",
    "        self.mu = mu\n",
    "        self.kappa = kappa\n",
    "        self.vol = vol\n",
    "        self.var = vol*vol\n",
    "    \n",
    "    def A(self,tau):\n",
    "        return -(self.mu/self.kappa-self.vol/(2*self.kappa**2))*tau + (self.mu/self.kappa**2-3*self.vol/(4*self.kappa**3))-(self.mu/self.kappa**2-self.vol/self.kappa**3)*np.exp(-self.kappa*tau)-self.vol/(4*self.kappa**3)*np.exp(-2*self.kappa*tau)\n",
    "\n",
    "    def B(self,tau):\n",
    "        return 1/self.kappa - 1/self.kappa*np.exp(-self.kappa*tau)\n",
    "\n",
    "    def zero(self,t0,T,r_t0):\n",
    "        tau = T-t0\n",
    "        return np.exp(self.A(tau)-self.B(tau)*r_t0)\n",
    "    \n",
    "    def Expectation(self,t0):\n",
    "        return self.r0*np.exp(-self.kappa*t0)+self.mu/self.kappa*(1-np.exp(-self.kappa*t0))\n",
    "    \n",
    "    def Variance(self,t0):\n",
    "        return self.vol/(2*self.kappa)*(1-np.exp(-2*self.kappa*t0))\n",
    "    \n",
    "    def mean_rate(self,t_fix,T0,T1,dist='Q',accrual=0.25):\n",
    "        A_diff = self.A(T0-t_fix) - self.A(T1-t_fix)\n",
    "        B_diff = self.B(T0-t_fix) - self.B(T1-t_fix)\n",
    "        m = A_diff - B_diff * self.Expectation(t_fix)\n",
    "        v = self.Variance(t_fix)\n",
    "        e = np.exp(m+v/2*(B_diff**2))\n",
    "        return 1/accrual * (e-1)\n",
    "    \n",
    "    def update_params(self,x):\n",
    "        self.r0=x[0]\n",
    "        self.mu=x[1]\n",
    "        self.kappa=x[2]\n",
    "        self.vol=x[3]\n",
    "        self.var = pow(x[3],2)"
   ]
  },
  {
   "cell_type": "code",
   "execution_count": 5,
   "metadata": {},
   "outputs": [
    {
     "name": "stdout",
     "output_type": "stream",
     "text": [
      "0.9846635614051478\n"
     ]
    }
   ],
   "source": [
    "mu = 0.005\n",
    "r0 = 0.015\n",
    "kappa = 0.1\n",
    "vol = 0.008\n",
    "m = Model(r0, mu, kappa, vol)\n",
    "print (m.zero(0,1,r0))"
   ]
  },
  {
   "cell_type": "code",
   "execution_count": 6,
   "metadata": {},
   "outputs": [
    {
     "data": {
      "text/plain": [
       "23"
      ]
     },
     "execution_count": 6,
     "metadata": {},
     "output_type": "execute_result"
    }
   ],
   "source": [
    "### Find the interval between today and next maturity\n",
    "imm = ql.IMM()\n",
    "today = ql.Date(27,11,2017)\n",
    "d1 = ql.Date(27,11,2017)\n",
    "d2 = imm.nextDate(d1)\n",
    "d2-d1"
   ]
  },
  {
   "cell_type": "code",
   "execution_count": 7,
   "metadata": {},
   "outputs": [],
   "source": [
    "### Calculate Future rate\n",
    "x = range(0,20,1)\n",
    "term = np.array([xx/4. for xx in x]) + (d2-d1)/365\n",
    "rate_Q = [m.mean_rate(t,t,t+0.25,'Q')*100 for t in term]"
   ]
  },
  {
   "cell_type": "code",
   "execution_count": 8,
   "metadata": {},
   "outputs": [
    {
     "data": {
      "text/plain": [
       "array([0.0630137, 0.3130137, 0.5630137, 0.8130137, 1.0630137, 1.3130137,\n",
       "       1.5630137, 1.8130137, 2.0630137, 2.3130137, 2.5630137, 2.8130137,\n",
       "       3.0630137, 3.3130137, 3.5630137, 3.8130137, 4.0630137, 4.3130137,\n",
       "       4.5630137, 4.8130137])"
      ]
     },
     "execution_count": 8,
     "metadata": {},
     "output_type": "execute_result"
    }
   ],
   "source": [
    "term"
   ]
  },
  {
   "cell_type": "code",
   "execution_count": 9,
   "metadata": {},
   "outputs": [
    {
     "data": {
      "text/plain": [
       "[1.5660870531333693,\n",
       " 1.6748203199877132,\n",
       " 1.7803292274539473,\n",
       " 1.8827192891516908,\n",
       " 1.982092182347106,\n",
       " 2.0785459002214957,\n",
       " 2.172174897771484,\n",
       " 2.2630702316077667,\n",
       " 2.351319693912135,\n",
       " 2.4370079407988854,\n",
       " 2.520216615319004,\n",
       " 2.6010244653348558,\n",
       " 2.679507456482888,\n",
       " 2.7557388804350325,\n",
       " 2.829789458658105,\n",
       " 2.901727441864743,\n",
       " 2.97161870533893,\n",
       " 3.039526840313833,\n",
       " 3.1055132415695574,\n",
       " 3.1696371914138766]"
      ]
     },
     "execution_count": 9,
     "metadata": {},
     "output_type": "execute_result"
    }
   ],
   "source": [
    "rate_Q"
   ]
  },
  {
   "cell_type": "code",
   "execution_count": 10,
   "metadata": {},
   "outputs": [
    {
     "data": {
      "image/png": "[encoded data removed]",
      "text/plain": [
       "<Figure size 720x360 with 1 Axes>"
      ]
     },
     "metadata": {
      "needs_background": "light"
     },
     "output_type": "display_data"
    }
   ],
   "source": [
    "### Plot the real curve and fit curve\n",
    "def plot_futures(dt,frame,x,y):\n",
    "    f = plt.figure(figsize=(10,5))\n",
    "    ax = f.add_subplot(111)\n",
    "    ax.yaxis.tick_right()  \n",
    "    crv = frame.loc[dt]\n",
    "    crv_rates = [100-z for z in crv.values]\n",
    "    plots = [plt.plot(x,crv_rates,label=dt,linestyle=\"dotted\",marker='o'),plt.plot(x,y,label='Model')]\n",
    "    plt.legend(loc='lower right')    \n",
    "    plt.show()\n",
    "    \n",
    "dt = '2017-11-27'\n",
    "plot_futures(dt,df,term,rate_Q)"
   ]
  },
  {
   "cell_type": "markdown",
   "metadata": {},
   "source": [
    "### Q3 : What changes if =/ 0? Reason through this case. We will cover this topic more fully at the end of the semester"
   ]
  },
  {
   "cell_type": "markdown",
   "metadata": {},
   "source": [
    "If gamma = 0, the diffusion part does not be affacted by r and r may go negative in the trajectory. If gamma is not 0, the model r will have very little possibility to go negative and the reason is explained as below:\n",
    "\n",
    "When r(t) is smaller than mu, the drift part will try to make r(t) revert to mu. We can call this power as 'reverting power'. When r(t) is close to zero, the reverting power could be very large. On the contrast, the diffusion part is almost determined by sigma which could be much smaller than the reverting power from the drift part. So r(t) could not be negative if gamma is not zero.\n",
    "\n",
    "Except for this, in this model in which gamma is not 0, high level of r(t) means a high volatility. Low level of rate has low volatility. It is reasonable in the real world. "
   ]
  },
  {
   "cell_type": "markdown",
   "metadata": {},
   "source": [
    "### Q4 : How would your calculation change if the above model was a 2-factor model?"
   ]
  },
  {
   "cell_type": "markdown",
   "metadata": {},
   "source": [
    "When it's a two factor model, the estimation of B(t,T) and X(t) could be different from that of one factor model. When we use one factor model, B(t,T) is a number and X(t) is r(0). When it comes to two factor model, both B(t,T) and X(t) are vector. We also need to consider the correlation between the factors in the model."
   ]
  },
  {
   "cell_type": "markdown",
   "metadata": {},
   "source": [
    "# Problem 2"
   ]
  },
  {
   "cell_type": "markdown",
   "metadata": {},
   "source": [
    "### Data: Settle prices of first 20 rolling Eurodollar futures on 11/27/2017 (1 day of data)"
   ]
  },
  {
   "cell_type": "markdown",
   "metadata": {},
   "source": [
    "### Q1 : Compute IMM dates for all the futures either manually or using a QuantLib python package (I will email instructions). Explain why you need to know the IMM dates"
   ]
  },
  {
   "cell_type": "code",
   "execution_count": 11,
   "metadata": {},
   "outputs": [],
   "source": [
    "imm = ql.IMM()\n",
    "maturities = []\n",
    "today = ql.Date(27,11,2017)\n",
    "d1 = ql.Date(27,11,2017)\n",
    "for i in range(20):\n",
    "    d2 = imm.nextDate(d1)\n",
    "    maturities.append(d2-today)\n",
    "    d1 = d2\n",
    "maturities = np.array(maturities)/365"
   ]
  },
  {
   "cell_type": "code",
   "execution_count": 12,
   "metadata": {},
   "outputs": [
    {
     "data": {
      "text/plain": [
       "array([0.0630137 , 0.31232877, 0.56164384, 0.8109589 , 1.06027397,\n",
       "       1.30958904, 1.55890411, 1.80821918, 2.05753425, 2.30684932,\n",
       "       2.55616438, 2.80547945, 3.05479452, 3.30410959, 3.55342466,\n",
       "       3.80273973, 4.05205479, 4.30136986, 4.55068493, 4.81917808])"
      ]
     },
     "execution_count": 12,
     "metadata": {},
     "output_type": "execute_result"
    }
   ],
   "source": [
    "maturities"
   ]
  },
  {
   "cell_type": "markdown",
   "metadata": {},
   "source": [
    "These data is the maturities of each Eurodollar future in our dataset. We need these maturities to calibrate our model parameters in the following steps. So, we have to know IMM date which demonstrate the Libor 3 months yield at that date and thus we can use our term structure model to fit."
   ]
  },
  {
   "cell_type": "markdown",
   "metadata": {},
   "source": [
    "### Q2: Consider 2 models: ModelA: model from Problem 1.1 & ModelB: DNS model from HW4"
   ]
  },
  {
   "cell_type": "markdown",
   "metadata": {},
   "source": [
    "### Q3 : Carry out a fit of all parameters for Models A & B"
   ]
  },
  {
   "cell_type": "markdown",
   "metadata": {},
   "source": [
    "### ModelA: model from Problem 1.1"
   ]
  },
  {
   "cell_type": "code",
   "execution_count": 13,
   "metadata": {},
   "outputs": [],
   "source": [
    "from scipy.optimize import least_squares, leastsq\n",
    "class Fitter:\n",
    "    def __init__(self,model,fut_data,terms):\n",
    "        self.model = model\n",
    "        self.data = np.array(fut_data)\n",
    "        self.terms = terms\n",
    "    \n",
    "    def residuals(self,x):\n",
    "        m = self.model\n",
    "        m.update_params(x)\n",
    "        rate_dist = [m.mean_rate(t,t,t+0.25)*100 for t in self.terms]\n",
    "        residual = np.array(rate_dist) - self.data\n",
    "        return residual\n",
    "    \n",
    "    def fit(self,x0):\n",
    "        return least_squares(self.residuals,x0,method='lm')"
   ]
  },
  {
   "cell_type": "code",
   "execution_count": 14,
   "metadata": {},
   "outputs": [
    {
     "name": "stdout",
     "output_type": "stream",
     "text": [
      "The parameters are calibrated as: [0.01559817 0.0094334  0.4367745  0.02572749]\n"
     ]
    }
   ],
   "source": [
    "rate_real = np.array(100 - df.loc['2017-11-27'])\n",
    "fit = Fitter(m, rate_real, maturities)\n",
    "result = fit.fit([r0, mu, kappa, vol])\n",
    "print('The parameters are calibrated as:',result.x)"
   ]
  },
  {
   "cell_type": "code",
   "execution_count": 15,
   "metadata": {},
   "outputs": [
    {
     "data": {
      "text/plain": [
       "<matplotlib.legend.Legend at 0x124b832b0>"
      ]
     },
     "execution_count": 15,
     "metadata": {},
     "output_type": "execute_result"
    },
    {
     "data": {
      "image/png": "[encoded data removed]",
      "text/plain": [
       "<Figure size 432x288 with 1 Axes>"
      ]
     },
     "metadata": {
      "needs_background": "light"
     },
     "output_type": "display_data"
    }
   ],
   "source": [
    "model_fit = [m.mean_rate(t, t, t+0.25)*100 for t in maturities]\n",
    "plt.plot(maturities,rate_real)\n",
    "plt.plot(maturities,model_fit)\n",
    "plt.legend([\"Real\",\"Fit\"])"
   ]
  },
  {
   "cell_type": "markdown",
   "metadata": {},
   "source": [
    "### ModelB: DNS"
   ]
  },
  {
   "cell_type": "code",
   "execution_count": 16,
   "metadata": {},
   "outputs": [],
   "source": [
    "import statsmodels.api as sm"
   ]
  },
  {
   "cell_type": "code",
   "execution_count": 17,
   "metadata": {},
   "outputs": [],
   "source": [
    "### Short rate model\n",
    "class DNS:\n",
    "    ### Initial data and parameters\n",
    "    def __init__(self, data, lambda_, time):\n",
    "        self.data = data\n",
    "        self.lambda_ = lambda_\n",
    "        self.time = time\n",
    "        self.loading = self.new_loading()\n",
    "        self.betas = []\n",
    "    \n",
    "    ### Update parameters\n",
    "    def update_betas(self, lambda_):\n",
    "        self.lambda_ = lambda_\n",
    "        self.betas = []\n",
    "        self.loading = self.new_loading()\n",
    "    \n",
    "    ### Calculate loading in case of changing of lambda\n",
    "    def new_loading(self):\n",
    "        loading_1 = np.vstack([1]*len(self.time))\n",
    "        loading_2 = np.vstack((1-np.exp(-self.lambda_ * tao)) / (self.lambda_ * tao) for tao in self.time)\n",
    "        loading_3 = np.vstack((1-np.exp(-self.lambda_ * tao)) / (self.lambda_ * tao) - np.exp(-self.lambda_ * tao) for tao in self.time)\n",
    "        loading = np.hstack([loading_1, loading_2, loading_3])\n",
    "        return loading\n",
    "    \n",
    "    ### Calculate residuals and prepare for least square optimizor\n",
    "    def residual(self, lambda_):\n",
    "        ### Update new lambda and loadings\n",
    "        self.update_betas(lambda_)\n",
    "        ### Initialize residual vector\n",
    "        residuals = []\n",
    "        ### for loop and calculate all the parameters and get new residuals\n",
    "        for i in range(self.data.shape[0]):\n",
    "            ### Get y\n",
    "            y = np.array(self.data.loc[self.data.index[i]])\n",
    "            ### OLS\n",
    "            model = sm.OLS(y, self.loading).fit()\n",
    "            ### Get y_hat\n",
    "            y_pred = model.predict(self.loading)\n",
    "            ### Store betas\n",
    "            self.betas.append(model.params)\n",
    "            ### Store residuals\n",
    "            residuals.append(y - y_pred)\n",
    "        ### Return residual vector\n",
    "        a = np.concatenate(residuals)\n",
    "        ### Calculate error_square_sum\n",
    "        error_square_sum = (a.T @ a)/len(a)\n",
    "        return error_square_sum\n",
    "    \n",
    "    ### Use optimizor in scipy to get the optimal lambda\n",
    "    def optimization(self, lambda_0):\n",
    "        return least_squares(self.residual, lambda_0, method = 'lm')"
   ]
  },
  {
   "cell_type": "code",
   "execution_count": 18,
   "metadata": {},
   "outputs": [],
   "source": [
    "sample = 100 - df.loc['2017-11-27']\n",
    "sample = pd.DataFrame(sample).T"
   ]
  },
  {
   "cell_type": "code",
   "execution_count": 19,
   "metadata": {},
   "outputs": [
    {
     "data": {
      "text/html": [
       "<div>\n",
       "<style scoped>\n",
       "    .dataframe tbody tr th:only-of-type {\n",
       "        vertical-align: middle;\n",
       "    }\n",
       "\n",
       "    .dataframe tbody tr th {\n",
       "        vertical-align: top;\n",
       "    }\n",
       "\n",
       "    .dataframe thead th {\n",
       "        text-align: right;\n",
       "    }\n",
       "</style>\n",
       "<table border=\"1\" class=\"dataframe\">\n",
       "  <thead>\n",
       "    <tr style=\"text-align: right;\">\n",
       "      <th></th>\n",
       "      <th>Settle_ED1</th>\n",
       "      <th>Settle_ED2</th>\n",
       "      <th>Settle_ED3</th>\n",
       "      <th>Settle_ED4</th>\n",
       "      <th>Settle_ED5</th>\n",
       "      <th>Settle_ED6</th>\n",
       "      <th>Settle_ED7</th>\n",
       "      <th>Settle_ED8</th>\n",
       "      <th>Settle_ED9</th>\n",
       "      <th>Settle_ED10</th>\n",
       "      <th>Settle_ED11</th>\n",
       "      <th>Settle_ED12</th>\n",
       "      <th>Settle_ED13</th>\n",
       "      <th>Settle_ED14</th>\n",
       "      <th>Settle_ED15</th>\n",
       "      <th>Settle_ED16</th>\n",
       "      <th>Settle_ED17</th>\n",
       "      <th>Settle_ED18</th>\n",
       "      <th>Settle_ED19</th>\n",
       "      <th>Settle_ED20</th>\n",
       "    </tr>\n",
       "  </thead>\n",
       "  <tbody>\n",
       "    <tr>\n",
       "      <th>2017-11-27</th>\n",
       "      <td>1.5525</td>\n",
       "      <td>1.72</td>\n",
       "      <td>1.865</td>\n",
       "      <td>1.95</td>\n",
       "      <td>2.015</td>\n",
       "      <td>2.06</td>\n",
       "      <td>2.1</td>\n",
       "      <td>2.135</td>\n",
       "      <td>2.18</td>\n",
       "      <td>2.195</td>\n",
       "      <td>2.215</td>\n",
       "      <td>2.235</td>\n",
       "      <td>2.275</td>\n",
       "      <td>2.295</td>\n",
       "      <td>2.32</td>\n",
       "      <td>2.345</td>\n",
       "      <td>2.38</td>\n",
       "      <td>2.395</td>\n",
       "      <td>2.42</td>\n",
       "      <td>2.445</td>\n",
       "    </tr>\n",
       "  </tbody>\n",
       "</table>\n",
       "</div>"
      ],
      "text/plain": [
       "            Settle_ED1  Settle_ED2  Settle_ED3  Settle_ED4  Settle_ED5  \\\n",
       "2017-11-27      1.5525        1.72       1.865        1.95       2.015   \n",
       "\n",
       "            Settle_ED6  Settle_ED7  Settle_ED8  Settle_ED9  Settle_ED10  \\\n",
       "2017-11-27        2.06         2.1       2.135        2.18        2.195   \n",
       "\n",
       "            Settle_ED11  Settle_ED12  Settle_ED13  Settle_ED14  Settle_ED15  \\\n",
       "2017-11-27        2.215        2.235        2.275        2.295         2.32   \n",
       "\n",
       "            Settle_ED16  Settle_ED17  Settle_ED18  Settle_ED19  Settle_ED20  \n",
       "2017-11-27        2.345         2.38        2.395         2.42        2.445  "
      ]
     },
     "execution_count": 19,
     "metadata": {},
     "output_type": "execute_result"
    }
   ],
   "source": [
    "sample"
   ]
  },
  {
   "cell_type": "code",
   "execution_count": 20,
   "metadata": {},
   "outputs": [
    {
     "name": "stdout",
     "output_type": "stream",
     "text": [
      "The optimal lamnbda is : [1.11779626]\n"
     ]
    },
    {
     "name": "stderr",
     "output_type": "stream",
     "text": [
      "/anaconda3/lib/python3.7/site-packages/ipykernel_launcher.py:20: FutureWarning: arrays to stack must be passed as a \"sequence\" type such as list or tuple. Support for non-sequence iterables such as generators is deprecated as of NumPy 1.16 and will raise an error in the future.\n",
      "/anaconda3/lib/python3.7/site-packages/ipykernel_launcher.py:21: FutureWarning: arrays to stack must be passed as a \"sequence\" type such as list or tuple. Support for non-sequence iterables such as generators is deprecated as of NumPy 1.16 and will raise an error in the future.\n"
     ]
    }
   ],
   "source": [
    "lambda_ = 0.5\n",
    "### Initialize NDS object\n",
    "DNSmodel = DNS(sample, lambda_, maturities)\n",
    "Op_lambda = DNSmodel.optimization(lambda_)\n",
    "print('The optimal lamnbda is :',Op_lambda.x)"
   ]
  },
  {
   "cell_type": "code",
   "execution_count": 21,
   "metadata": {},
   "outputs": [],
   "source": [
    "def New_loading(lambda_, time):\n",
    "    loading_1 = np.vstack([1]*len(time))\n",
    "    loading_2 = np.vstack((1-np.exp(-lambda_ * tao)) / (lambda_ * tao) for tao in time)\n",
    "    loading_3 = np.vstack((1-np.exp(-lambda_ * tao)) / (lambda_ * tao) - np.exp(-lambda_ * tao) for tao in time)\n",
    "    loading = np.hstack([loading_1, loading_2, loading_3])\n",
    "    return loading"
   ]
  },
  {
   "cell_type": "code",
   "execution_count": 22,
   "metadata": {},
   "outputs": [
    {
     "name": "stderr",
     "output_type": "stream",
     "text": [
      "/anaconda3/lib/python3.7/site-packages/ipykernel_launcher.py:3: FutureWarning: arrays to stack must be passed as a \"sequence\" type such as list or tuple. Support for non-sequence iterables such as generators is deprecated as of NumPy 1.16 and will raise an error in the future.\n",
      "  This is separate from the ipykernel package so we can avoid doing imports until\n",
      "/anaconda3/lib/python3.7/site-packages/ipykernel_launcher.py:4: FutureWarning: arrays to stack must be passed as a \"sequence\" type such as list or tuple. Support for non-sequence iterables such as generators is deprecated as of NumPy 1.16 and will raise an error in the future.\n",
      "  after removing the cwd from sys.path.\n"
     ]
    }
   ],
   "source": [
    "loading = New_loading(1.11779625, term)"
   ]
  },
  {
   "cell_type": "code",
   "execution_count": 23,
   "metadata": {},
   "outputs": [],
   "source": [
    "Newest_beta = DNSmodel.betas[-1]"
   ]
  },
  {
   "cell_type": "code",
   "execution_count": 24,
   "metadata": {},
   "outputs": [],
   "source": [
    "DNS_fit = loading @ Newest_beta"
   ]
  },
  {
   "cell_type": "code",
   "execution_count": 25,
   "metadata": {},
   "outputs": [
    {
     "data": {
      "text/plain": [
       "<matplotlib.legend.Legend at 0x1c2890e828>"
      ]
     },
     "execution_count": 25,
     "metadata": {},
     "output_type": "execute_result"
    },
    {
     "data": {
      "image/png": "[encoded data removed]",
      "text/plain": [
       "<Figure size 432x288 with 1 Axes>"
      ]
     },
     "metadata": {
      "needs_background": "light"
     },
     "output_type": "display_data"
    }
   ],
   "source": [
    "plt.plot(maturities,rate_real)\n",
    "plt.plot(maturities,DNS_fit)\n",
    "plt.legend([\"Real\",\"Fit\"])"
   ]
  },
  {
   "cell_type": "code",
   "execution_count": 26,
   "metadata": {},
   "outputs": [
    {
     "data": {
      "text/plain": [
       "array([1.59467758, 1.72018448, 1.82493304, 1.91275961, 1.98674687,\n",
       "       2.04937778, 2.1026572 , 2.1482081 , 2.18734787, 2.22114882,\n",
       "       2.25048634, 2.2760772 , 2.29851013, 2.31827024, 2.33575856,\n",
       "       2.35130777, 2.3651948 , 2.37765096, 2.38887019, 2.39901565])"
      ]
     },
     "execution_count": 26,
     "metadata": {},
     "output_type": "execute_result"
    }
   ],
   "source": [
    "DNS_fit"
   ]
  },
  {
   "cell_type": "markdown",
   "metadata": {},
   "source": [
    "This is the curve fitted by DNS model. We could find that the real curve and fit curve are almost overlapped. So we have a very good fit."
   ]
  },
  {
   "cell_type": "markdown",
   "metadata": {},
   "source": [
    "### Q4 : Check for collinearity and apply collinearity remedies (PCA rank reduction or Ridge regres- sion) if your problems are collinear"
   ]
  },
  {
   "cell_type": "code",
   "execution_count": 27,
   "metadata": {},
   "outputs": [],
   "source": [
    "### Find the Residual function\n",
    "def Residual_fuc(X):\n",
    "    model_ = Model(X[0], X[1], X[2], X[3])\n",
    "    fit = Fitter(model_, rate_real, maturities)\n",
    "    return fit.residuals(X)  "
   ]
  },
  {
   "cell_type": "code",
   "execution_count": 28,
   "metadata": {},
   "outputs": [],
   "source": [
    "### Get Jacobian \n",
    "def Jacobian(Residual_fuc, X_0):\n",
    "    residual = Residual_fuc(X_0)\n",
    "    Jac = np.zeros((len(residual), len(X_0)))\n",
    "    delta = 1e-10\n",
    "    for i in range(len(X_0)):\n",
    "        x = X_0.copy()\n",
    "        \n",
    "        x[i] = X_0[i] + delta\n",
    "        Jac[:,i] = Residual_fuc(x)\n",
    "        \n",
    "        x[i] = X_0[i] - delta\n",
    "        Jac[:,i] = Jac[:,i] - Residual_fuc(x)\n",
    "        \n",
    "        Jac[:,i] = Jac[:,i]/(2*delta)\n",
    "    return Jac"
   ]
  },
  {
   "cell_type": "code",
   "execution_count": 29,
   "metadata": {},
   "outputs": [],
   "source": [
    "### Check if there is collinearity\n",
    "def Check_coll(jac, control_value):\n",
    "    ### Estimate Hessian Matrix\n",
    "    Hes_aprox = jac.T @ jac\n",
    "    ### Get eigen_value and eigen_vector\n",
    "    eig_val, eig_vec = np.linalg.eig(Hes_aprox)\n",
    "    ### Sort eigen_value and eigen_vector\n",
    "    order = np.argsort(-eig_val)\n",
    "    eig_val = eig_val[order]\n",
    "    eig_vec = eig_vec[:,order]\n",
    "    ### Check if there is collinearity\n",
    "    num = 0\n",
    "    for i in range(len(eig_val)-1):\n",
    "        if eig_val[0]/eig_val[i+1] > control_value:\n",
    "            num += 1\n",
    "    return eig_val, num  "
   ]
  },
  {
   "cell_type": "code",
   "execution_count": 30,
   "metadata": {},
   "outputs": [
    {
     "data": {
      "text/plain": [
       "(array([1.31504991e+06, 3.97274160e+04, 1.22889818e+01, 5.42439848e-04]), 3)"
      ]
     },
     "execution_count": 30,
     "metadata": {},
     "output_type": "execute_result"
    }
   ],
   "source": [
    "X_0 = [0.015, 0.005, 0.1, 0.008]\n",
    "Jac = Jacobian(Residual_fuc, X_0)\n",
    "Check_coll(Jac, 10)"
   ]
  },
  {
   "cell_type": "markdown",
   "metadata": {},
   "source": [
    "From the result above that, there is collinearity in this case and we should apply PCA or Ridge Regression in the Least square algorithm in order to reduce the effect of collinearity."
   ]
  },
  {
   "cell_type": "code",
   "execution_count": 31,
   "metadata": {},
   "outputs": [],
   "source": [
    "### Apply PCA\n",
    "def LSQ_PCA(R_fuc, X_0, tol, Max_steps):\n",
    "    residual = R_fuc(X_0)\n",
    "    steps = 0\n",
    "    x = X_0\n",
    "    dimonsion = len(X_0)\n",
    "    def Square_error(residual):\n",
    "        res = np.array(residual)\n",
    "        return (res.T @ res)/len(res)\n",
    "    while Square_error(residual) > tol and steps < Max_steps:\n",
    "        ### Step 1: Approximate Hessian\n",
    "        Jac = Jacobian(R_fuc, x)\n",
    "        Hes_aprox = Jac.T @ Jac\n",
    "        ### Step 2: PCA dimonsion from 4->k\n",
    "        eig_val, eig_vec = np.linalg.eig(Hes_aprox)\n",
    "        order = np.argsort(-eig_val)\n",
    "        eig_val = eig_val[order]\n",
    "        eig_vec = eig_vec[:,order]\n",
    "        ### Step 3: Find out how many dimonsions to reduce\n",
    "        num = 0\n",
    "        for i in range(len(eig_val)-1):\n",
    "            if eig_val[0]/eig_val[i+1] > 10:\n",
    "                num += 1\n",
    "        New_dimonsion = dimonsion - num\n",
    "        ### reduce dimonsion of Jacobian\n",
    "        E = eig_vec[:,:New_dimonsion]\n",
    "        hes_new_inv = (E / eig_val[:New_dimonsion]) @ E.T \n",
    "        x = x - hes_new_inv @ Jac.T @ residual\n",
    "        residual = R_fuc(x)\n",
    "        steps += 1\n",
    "    return x"
   ]
  },
  {
   "cell_type": "code",
   "execution_count": 32,
   "metadata": {},
   "outputs": [
    {
     "name": "stdout",
     "output_type": "stream",
     "text": [
      "After reducing collinearity, the parameter list is  [0.01462859 0.00363133 0.10003236 0.00786783]\n"
     ]
    }
   ],
   "source": [
    "x_reduce_col = LSQ_PCA(Residual_fuc, X_0, 1e-5, 100)\n",
    "print('After reducing collinearity, the parameter list is ',x_reduce_col)"
   ]
  },
  {
   "cell_type": "code",
   "execution_count": 33,
   "metadata": {},
   "outputs": [
    {
     "data": {
      "text/plain": [
       "<matplotlib.legend.Legend at 0x12473b9b0>"
      ]
     },
     "execution_count": 33,
     "metadata": {},
     "output_type": "execute_result"
    },
    {
     "data": {
      "image/png": "[encoded data removed]",
      "text/plain": [
       "<Figure size 432x288 with 1 Axes>"
      ]
     },
     "metadata": {
      "needs_background": "light"
     },
     "output_type": "display_data"
    }
   ],
   "source": [
    "model_new = Model(x_reduce_col[0],x_reduce_col[1],x_reduce_col[2],x_reduce_col[3])\n",
    "model_new_fit = [model_new.mean_rate(t, t, t+0.25)*100 for t in term]\n",
    "plt.plot(maturities,rate_real)\n",
    "plt.plot(maturities,model_new_fit)\n",
    "plt.legend([\"Real\",\"Fit\"])"
   ]
  },
  {
   "cell_type": "markdown",
   "metadata": {},
   "source": [
    "### Grid Search & Ridge Regression DNS"
   ]
  },
  {
   "cell_type": "markdown",
   "metadata": {},
   "source": [
    "#### Step 1 : Grid Search to find the optimal lambda"
   ]
  },
  {
   "cell_type": "code",
   "execution_count": 34,
   "metadata": {},
   "outputs": [],
   "source": [
    "lam_array = np.arange(0.001,1.5,0.001)"
   ]
  },
  {
   "cell_type": "code",
   "execution_count": 35,
   "metadata": {},
   "outputs": [],
   "source": [
    "def New_loading(lambda_, time):\n",
    "    loading_1 = np.vstack([1]*len(time))\n",
    "    loading_2 = np.vstack((1-np.exp(-lambda_ * tao)) / (lambda_ * tao) for tao in time)\n",
    "    loading_3 = np.vstack((1-np.exp(-lambda_ * tao)) / (lambda_ * tao) - np.exp(-lambda_ * tao) for tao in time)\n",
    "    loading = np.hstack([loading_1, loading_2, loading_3])\n",
    "    return loading"
   ]
  },
  {
   "cell_type": "code",
   "execution_count": 36,
   "metadata": {},
   "outputs": [],
   "source": [
    "def residual(lambda_, time):\n",
    "    residuals = []\n",
    "    for i in range(sample.shape[0]):\n",
    "        y = np.array(sample.loc[sample.index[i]])\n",
    "        model = sm.OLS(y, New_loading(lambda_, time))\n",
    "        result = model.fit()\n",
    "        y_pred = result.predict(New_loading(lambda_, time))\n",
    "        residual = y - y_pred\n",
    "        residuals.append(residual)\n",
    "    a = np.concatenate(residuals)\n",
    "    error_sq_sum = (a.T @ a) / len(a)\n",
    "    return error_sq_sum"
   ]
  },
  {
   "cell_type": "code",
   "execution_count": 37,
   "metadata": {},
   "outputs": [],
   "source": [
    "def Grid_search(data, lam_array, time):\n",
    "    Best_lambda = 0\n",
    "    lowest_error = 100\n",
    "    for i in range(len(lam_array)):\n",
    "        error = residual(lam_array[i], time)\n",
    "        if error < lowest_error:\n",
    "            lowest_error = error\n",
    "            Best_lambda = lam_array[i]\n",
    "    return Best_lambda"
   ]
  },
  {
   "cell_type": "code",
   "execution_count": 38,
   "metadata": {},
   "outputs": [
    {
     "name": "stderr",
     "output_type": "stream",
     "text": [
      "/anaconda3/lib/python3.7/site-packages/ipykernel_launcher.py:3: FutureWarning: arrays to stack must be passed as a \"sequence\" type such as list or tuple. Support for non-sequence iterables such as generators is deprecated as of NumPy 1.16 and will raise an error in the future.\n",
      "  This is separate from the ipykernel package so we can avoid doing imports until\n",
      "/anaconda3/lib/python3.7/site-packages/ipykernel_launcher.py:4: FutureWarning: arrays to stack must be passed as a \"sequence\" type such as list or tuple. Support for non-sequence iterables such as generators is deprecated as of NumPy 1.16 and will raise an error in the future.\n",
      "  after removing the cwd from sys.path.\n"
     ]
    },
    {
     "data": {
      "text/plain": [
       "1.1179999999999999"
      ]
     },
     "execution_count": 38,
     "metadata": {},
     "output_type": "execute_result"
    }
   ],
   "source": [
    "Grid_search(sample, lam_array, maturities)"
   ]
  },
  {
   "cell_type": "markdown",
   "metadata": {},
   "source": [
    "#### Step 2 : Calculate the condition number for the optimal lambda"
   ]
  },
  {
   "cell_type": "code",
   "execution_count": 39,
   "metadata": {},
   "outputs": [],
   "source": [
    "def Compute_Condition_num(lambda_, time, k):\n",
    "    loadings = New_loading(lambda_, time)\n",
    "    loading_ = loadings[:,1:]\n",
    "    Mat = loading_.T @ loading_ + k*np.eye(2)\n",
    "    eig_val, eig_vec = np.linalg.eig(Mat)\n",
    "    E_max = max(eig_val)\n",
    "    E_min = min(eig_val)\n",
    "    return E_max / E_min"
   ]
  },
  {
   "cell_type": "code",
   "execution_count": 40,
   "metadata": {},
   "outputs": [
    {
     "name": "stderr",
     "output_type": "stream",
     "text": [
      "/anaconda3/lib/python3.7/site-packages/ipykernel_launcher.py:3: FutureWarning: arrays to stack must be passed as a \"sequence\" type such as list or tuple. Support for non-sequence iterables such as generators is deprecated as of NumPy 1.16 and will raise an error in the future.\n",
      "  This is separate from the ipykernel package so we can avoid doing imports until\n",
      "/anaconda3/lib/python3.7/site-packages/ipykernel_launcher.py:4: FutureWarning: arrays to stack must be passed as a \"sequence\" type such as list or tuple. Support for non-sequence iterables such as generators is deprecated as of NumPy 1.16 and will raise an error in the future.\n",
      "  after removing the cwd from sys.path.\n"
     ]
    },
    {
     "data": {
      "text/plain": [
       "15.570475373717585"
      ]
     },
     "execution_count": 40,
     "metadata": {},
     "output_type": "execute_result"
    }
   ],
   "source": [
    "Compute_Condition_num(1.118, maturities, 0)"
   ]
  },
  {
   "cell_type": "markdown",
   "metadata": {},
   "source": [
    "#### Step 3 : Find the lowest positive number k"
   ]
  },
  {
   "cell_type": "code",
   "execution_count": 41,
   "metadata": {},
   "outputs": [],
   "source": [
    "def Find_k(lambda_, time):\n",
    "    delta_k = 0.001\n",
    "    k = 0\n",
    "    while Compute_Condition_num(lambda_,time, k) > 10:\n",
    "        k = k + delta_k\n",
    "    return k"
   ]
  },
  {
   "cell_type": "code",
   "execution_count": 42,
   "metadata": {},
   "outputs": [
    {
     "name": "stderr",
     "output_type": "stream",
     "text": [
      "/anaconda3/lib/python3.7/site-packages/ipykernel_launcher.py:3: FutureWarning: arrays to stack must be passed as a \"sequence\" type such as list or tuple. Support for non-sequence iterables such as generators is deprecated as of NumPy 1.16 and will raise an error in the future.\n",
      "  This is separate from the ipykernel package so we can avoid doing imports until\n",
      "/anaconda3/lib/python3.7/site-packages/ipykernel_launcher.py:4: FutureWarning: arrays to stack must be passed as a \"sequence\" type such as list or tuple. Support for non-sequence iterables such as generators is deprecated as of NumPy 1.16 and will raise an error in the future.\n",
      "  after removing the cwd from sys.path.\n"
     ]
    },
    {
     "data": {
      "text/plain": [
       "0.21400000000000016"
      ]
     },
     "execution_count": 42,
     "metadata": {},
     "output_type": "execute_result"
    }
   ],
   "source": [
    "Find_k(1.118, maturities)"
   ]
  },
  {
   "cell_type": "markdown",
   "metadata": {},
   "source": [
    "#### Step 4 : Re-estimate the coefficients by using ridge regression"
   ]
  },
  {
   "cell_type": "code",
   "execution_count": 43,
   "metadata": {},
   "outputs": [],
   "source": [
    "def Ridge(data, k, time, lambda_):\n",
    "    loadings = New_loading(lambda_, time)\n",
    "    Mat = loadings.T @ loadings + k*np.eye(3)\n",
    "    beta = np.linalg.inv(Mat) @ loadings.T @ np.array(data).T\n",
    "    return beta"
   ]
  },
  {
   "cell_type": "code",
   "execution_count": 44,
   "metadata": {},
   "outputs": [
    {
     "name": "stderr",
     "output_type": "stream",
     "text": [
      "/anaconda3/lib/python3.7/site-packages/ipykernel_launcher.py:3: FutureWarning: arrays to stack must be passed as a \"sequence\" type such as list or tuple. Support for non-sequence iterables such as generators is deprecated as of NumPy 1.16 and will raise an error in the future.\n",
      "  This is separate from the ipykernel package so we can avoid doing imports until\n",
      "/anaconda3/lib/python3.7/site-packages/ipykernel_launcher.py:4: FutureWarning: arrays to stack must be passed as a \"sequence\" type such as list or tuple. Support for non-sequence iterables such as generators is deprecated as of NumPy 1.16 and will raise an error in the future.\n",
      "  after removing the cwd from sys.path.\n"
     ]
    }
   ],
   "source": [
    "beta = Ridge(sample, 0.214, maturities, 1.118)"
   ]
  },
  {
   "cell_type": "code",
   "execution_count": 46,
   "metadata": {},
   "outputs": [
    {
     "name": "stderr",
     "output_type": "stream",
     "text": [
      "/anaconda3/lib/python3.7/site-packages/ipykernel_launcher.py:3: FutureWarning: arrays to stack must be passed as a \"sequence\" type such as list or tuple. Support for non-sequence iterables such as generators is deprecated as of NumPy 1.16 and will raise an error in the future.\n",
      "  This is separate from the ipykernel package so we can avoid doing imports until\n",
      "/anaconda3/lib/python3.7/site-packages/ipykernel_launcher.py:4: FutureWarning: arrays to stack must be passed as a \"sequence\" type such as list or tuple. Support for non-sequence iterables such as generators is deprecated as of NumPy 1.16 and will raise an error in the future.\n",
      "  after removing the cwd from sys.path.\n"
     ]
    }
   ],
   "source": [
    "y_pred = New_loading(1.118, maturities) @ beta"
   ]
  },
  {
   "cell_type": "code",
   "execution_count": 47,
   "metadata": {},
   "outputs": [
    {
     "data": {
      "text/plain": [
       "<matplotlib.legend.Legend at 0x1c28c52ba8>"
      ]
     },
     "execution_count": 47,
     "metadata": {},
     "output_type": "execute_result"
    },
    {
     "data": {
      "image/png": "[encoded data removed]",
      "text/plain": [
       "<Figure size 432x288 with 1 Axes>"
      ]
     },
     "metadata": {
      "needs_background": "light"
     },
     "output_type": "display_data"
    }
   ],
   "source": [
    "plt.plot(maturities,rate_real)\n",
    "plt.plot(maturities,y_pred)\n",
    "plt.legend([\"Real\",\"Fit\"])"
   ]
  },
  {
   "cell_type": "markdown",
   "metadata": {},
   "source": [
    "### Q5 : Explain your work"
   ]
  },
  {
   "cell_type": "markdown",
   "metadata": {},
   "source": [
    "In the first problem we solved the stochastic differential equation and ODE to get the analytical formula of future rate. Next we built the model, initialized the parameters and used optimizing algorithm in scipy to calibrate the parameters in the model. Here, we found that when we use Jacobian matrix to approximate Hessian matrix, there was collinearity among the parameters and thus make it unable to inverse the approximated Hessian matrix. So, we apply the PCA to reduce the dimonsion in the process and finally overcome this problem. The trick we found in this case was that when we use scipy_least_square, we got a very good fit which was almost as good as DNS. However, when we applied PCA, we did not get a good fit. So I went to the website and found that the algorithm used in scipy is based on a paper called \"The Levenberg-Marquardt Algorithm: Implementation and Theory\". \n",
    "\n",
    "The paper is avaliable on website:\n",
    "https://link.springer.com/content/pdf/10.1007/BFb0067700.pdf\n",
    "\n",
    "In this paper, I found that in Levenberg-Marquardt Algorithm, the author add a diagonal matrix to control the approximated Hessian matrix's diagonal elements and make sure that it can be inversed. The detail is shown as below:\n",
    "$$\n",
    "Gradient = (J^TJ+\\lambda D^TD)^{-1}J^Tf\n",
    "$$\n",
    "So the reason why our PCA method does not provide a very fit is that our method still needs to be improved. The model is correct. If we improve our optimizing algorithm (e.g. using scipy least_square) wee could also get a very good fit."
   ]
  },
  {
   "cell_type": "markdown",
   "metadata": {},
   "source": [
    "Next, we apply Ridge regression to reduce the effect of collinearity. First, we use grid search to find the optimal lambda. It's almost the same as the result in the case we use the optimizer in scipy. Then we use compute the condition number and find the lowest positive number k. Finally we apply Ridge regression to get the beta. After plotting the result, we find that when maturities are close to today, the fit is good. When maturity is far away from today, we do not get a very good fit. It's reasonable in reality that we can get a good estimation of the near future because the policy is constant and predictable. But in the long run, only god knows what will happen. Although the result is not as good as the one we do not consider collinearity, the parameter beta are all positve and do not variant a lot as time goes."
   ]
  },
  {
   "cell_type": "code",
   "execution_count": null,
   "metadata": {},
   "outputs": [],
   "source": []
  }
 ],
 "metadata": {
  "kernelspec": {
   "display_name": "Python 3",
   "language": "python",
   "name": "python3"
  },
  "language_info": {
   "codemirror_mode": {
    "name": "ipython",
    "version": 3
   },
   "file_extension": ".py",
   "mimetype": "text/x-python",
   "name": "python",
   "nbconvert_exporter": "python",
   "pygments_lexer": "ipython3",
   "version": "3.7.3"
  }
 },
 "nbformat": 4,
 "nbformat_minor": 2
}
