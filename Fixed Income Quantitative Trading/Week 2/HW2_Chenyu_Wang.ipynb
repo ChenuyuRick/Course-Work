{
 "cells": [
  {
   "cell_type": "markdown",
   "metadata": {},
   "source": [
    "# HW2 Chenyu Wang"
   ]
  },
  {
   "cell_type": "markdown",
   "metadata": {},
   "source": [
    "## Preparation"
   ]
  },
  {
   "cell_type": "markdown",
   "metadata": {},
   "source": [
    "### Definition"
   ]
  },
  {
   "cell_type": "markdown",
   "metadata": {},
   "source": [
    "I : Sample1 : 2/1/2012 to 6/30/2015\n",
    "II: WFLY : 3Y*w1-5Y+7Y*w2 weights = (w1, -1, w2)"
   ]
  },
  {
   "cell_type": "markdown",
   "metadata": {},
   "source": [
    "### Import Modules"
   ]
  },
  {
   "cell_type": "code",
   "execution_count": 1,
   "metadata": {},
   "outputs": [],
   "source": [
    "import pandas as pd\n",
    "import numpy as np\n",
    "import matplotlib.pyplot as plt\n",
    "from sklearn.decomposition import PCA\n",
    "import statsmodels.api as sm"
   ]
  },
  {
   "cell_type": "markdown",
   "metadata": {},
   "source": [
    "## Q2"
   ]
  },
  {
   "cell_type": "markdown",
   "metadata": {},
   "source": [
    "### a.\tDownload a panel of CMT rates into pandas dataframe & remove ‘1M column from the dataset"
   ]
  },
  {
   "cell_type": "code",
   "execution_count": 2,
   "metadata": {},
   "outputs": [],
   "source": [
    "data = pd.read_csv('CMT_Rates.csv', index_col = 'Date')\n",
    "data.drop(columns = ['1 MO'], inplace = True)\n",
    "sample1 = data['12/2/1':'15/6/30']"
   ]
  },
  {
   "cell_type": "markdown",
   "metadata": {},
   "source": [
    "### b.\tPerform PCA on the dataset using Sample1"
   ]
  },
  {
   "cell_type": "code",
   "execution_count": 3,
   "metadata": {},
   "outputs": [
    {
     "name": "stdout",
     "output_type": "stream",
     "text": [
      "        3 MO  6 MO  1 YR  2 YR  3 YR  5 YR  7 YR  10 YR  20 YR  30 YR\n",
      "Date                                                                 \n",
      "12/2/2  0.02  0.01  0.01  0.00  0.00 -0.01 -0.02  -0.01  -0.01   0.00\n",
      "12/2/3  0.00  0.00  0.00  0.00  0.02  0.07  0.10   0.11   0.12   0.12\n",
      "12/2/6  0.00  0.00  0.00  0.01 -0.01 -0.02 -0.03  -0.04  -0.05  -0.05\n",
      "12/2/7  0.00  0.01  0.00  0.01  0.03  0.06  0.07   0.07   0.07   0.06\n",
      "12/2/8  0.01  0.00  0.01  0.02  0.00  0.00  0.00   0.01   0.00   0.00\n",
      "         3 MO  6 MO  1 YR  2 YR  3 YR  5 YR  7 YR  10 YR  20 YR  30 YR\n",
      "Date                                                                  \n",
      "15/6/24  0.00 -0.01  0.00 -0.02 -0.01 -0.02 -0.02  -0.04  -0.05  -0.04\n",
      "15/6/25  0.00 -0.01 -0.01  0.00  0.00  0.01  0.02   0.02   0.01   0.00\n",
      "15/6/26  0.00  0.01  0.00  0.04  0.03  0.05  0.06   0.09   0.10   0.09\n",
      "15/6/29  0.01  0.03 -0.02 -0.08 -0.09 -0.13 -0.15  -0.16  -0.16  -0.16\n",
      "15/6/30 -0.01  0.00  0.01  0.00  0.01  0.01  0.02   0.02   0.01   0.02\n"
     ]
    }
   ],
   "source": [
    "## compute the daily changes\n",
    "sample1_diff = sample1.diff().dropna()\n",
    "\n",
    "print(sample1_diff.head())\n",
    "print(sample1_diff.tail())"
   ]
  },
  {
   "cell_type": "code",
   "execution_count": 4,
   "metadata": {},
   "outputs": [
    {
     "name": "stdout",
     "output_type": "stream",
     "text": [
      "% Variance explained:\n",
      "[0.8758 0.9515 0.9656 0.9763 0.9826 0.988  0.9922 0.9953 0.9977 0.9999]\n"
     ]
    }
   ],
   "source": [
    "## perform PCA by sklearn\n",
    "pca = PCA(n_components = len(sample1.columns))\n",
    "pca.fit(sample1_diff)\n",
    "f = pca.components_\n",
    "var_ratio = np.cumsum(np.round(pca.explained_variance_ratio_,decimals = 4))\n",
    "print(\"% Variance explained:\")\n",
    "print(var_ratio)"
   ]
  },
  {
   "cell_type": "code",
   "execution_count": 5,
   "metadata": {},
   "outputs": [
    {
     "name": "stdout",
     "output_type": "stream",
     "text": [
      "% Variance explained custom\n",
      "[0.8758 0.9515 0.9656 0.9763 0.9826 0.988  0.9922 0.9953 0.9975 0.9999]\n"
     ]
    }
   ],
   "source": [
    "## Perform PCA by custom\n",
    "### Minus mean()\n",
    "sample1_diff_zero = sample1_diff - sample1_diff.mean()\n",
    "### Calculate covariance\n",
    "c_matrix = sample1_diff_zero.cov()\n",
    "### calculate eigenvector and eigenvalue\n",
    "val, vec = np.linalg.eig(c_matrix)\n",
    "### calculate explained ratio\n",
    "tr = sum(val)\n",
    "var_ratio_custom = np.cumsum(np.round(val/tr, decimals = 4))\n",
    "print(\"% Variance explained custom\")\n",
    "print(var_ratio_custom)"
   ]
  },
  {
   "cell_type": "markdown",
   "metadata": {},
   "source": [
    "### c.\tUse this PCA model to analyze the CMT curve move on the Election Day: 11/8/2016 to 11/9/2016"
   ]
  },
  {
   "cell_type": "code",
   "execution_count": 6,
   "metadata": {},
   "outputs": [],
   "source": [
    "### Get the change of from 11/8/2016 to 11/9/2016\n",
    "CMT_curve_move = data.loc['16/11/9']-data.loc['16/11/8']"
   ]
  },
  {
   "cell_type": "code",
   "execution_count": 7,
   "metadata": {},
   "outputs": [],
   "source": [
    "### Get the top PCA explained data\n",
    "##PCA 1\n",
    "PCA1 = CMT_curve_move @ vec[:,:1] @ vec[:,:1].T\n",
    "##PCA 2\n",
    "PCA2 = CMT_curve_move @ vec[:,:2] @ vec[:,:2].T\n",
    "##PCA 3\n",
    "PCA3 = CMT_curve_move @ vec[:,:3] @ vec[:,:3].T"
   ]
  },
  {
   "cell_type": "markdown",
   "metadata": {},
   "source": [
    "i.\tPlot CMT curve move vs the move explained by the first PCA factor, first 2 PCA factors, first 3 PCA factors"
   ]
  },
  {
   "cell_type": "code",
   "execution_count": 8,
   "metadata": {},
   "outputs": [
    {
     "data": {
      "image/png": "[encoded data removed]",
      "text/plain": [
       "<Figure size 1800x1080 with 1 Axes>"
      ]
     },
     "metadata": {},
     "output_type": "display_data"
    }
   ],
   "source": [
    "### Plot the two curve together\n",
    "x = data.columns.values\n",
    "plt.figure(figsize = (25,15))\n",
    "plt.plot(x, CMT_curve_move, label = \"CMT Curve Move\")\n",
    "plt.plot(x, PCA1, label = \"PCA1\")\n",
    "plt.plot(x, PCA2, label = \"PCA2\")\n",
    "plt.plot(x, PCA3, label = \"PCA3\")\n",
    "plt.xlabel('Term Structure')\n",
    "plt.ylabel('Change')\n",
    "plt.legend()\n",
    "plt.show()"
   ]
  },
  {
   "cell_type": "markdown",
   "metadata": {},
   "source": [
    "ii.\tExplain your calculations and results"
   ]
  },
  {
   "cell_type": "markdown",
   "metadata": {},
   "source": [
    "### Explain Calculations\n",
    "Let's suppose X is the data(m*k matrix), Q is the eigenvector matrix. If we compute X*Q, tthe result is the data that is transformed by PCA. If we use first two columns of Q, we call it Q1, we compute X*Q1. It means that the data's dimonsion is reduced to 2 dimensions. Here, if we multiply the transpose matrix of Q1, it means we retransform the dataset into k dimensions. We can think this process in an intuitive way that we just take off all other information of the dataset except factor1 and factor 2. ( This could be easily understood if we think about X*Q*Q^T = X). \n",
    "\n",
    "So, in this way, we compute the new line of PCA1, PCA2, PCA3 by reduced the dimension to 1, 2, 3 respectively and then multiply a transpose matirx in order to restore the data(leave only the information we want)."
   ]
  },
  {
   "cell_type": "markdown",
   "metadata": {},
   "source": [
    "### Explain Result\n",
    "Result 1: PCA3 \"fit\" best\n",
    "\n",
    "We can see in the graph that PCA3 is the one best \"fit\" the real CMT curve movement while PCA1 is the worst one. It's very easy to understand that PCA3 has a higher explained variance ratio. \n",
    "\n",
    "Result 2: Short term fit well, Mid term similar and long term the worst\n",
    "\n",
    "From the graph we can find that at the short term, PCA1, PCA2 and PCA3 capture the movement of CMT well. This is because that the monetary policy in the short term is much more predictable. In mid term and long term, there are more controversial viewpoints and it's much more difficult to predict. Our principal components cannot capture enough information to show the pattern."
   ]
  },
  {
   "cell_type": "markdown",
   "metadata": {},
   "source": [
    "### d.\tCompute weights of the WFLY to make sure that WFLY does not have PCA1,2 risk exposure in Sample1.  Let’s call this combination WFLY1"
   ]
  },
  {
   "cell_type": "code",
   "execution_count": 9,
   "metadata": {},
   "outputs": [
    {
     "data": {
      "text/plain": [
       "(0.6298498832434606, 0.5136612380614491)"
      ]
     },
     "execution_count": 9,
     "metadata": {},
     "output_type": "execute_result"
    }
   ],
   "source": [
    "A = vec[[4,6],:2].T\n",
    "B = vec[5,:2].T\n",
    "w1, w2 = np.linalg.solve(A,B)\n",
    "w1,w2"
   ]
  },
  {
   "cell_type": "code",
   "execution_count": 10,
   "metadata": {},
   "outputs": [
    {
     "name": "stdout",
     "output_type": "stream",
     "text": [
      "The weights of WFLY1 is [0.6298498832434606, -1, 0.5136612380614491]\n"
     ]
    }
   ],
   "source": [
    "weights = [w1, -1, w2]\n",
    "print(\"The weights of WFLY1 is\", weights)"
   ]
  },
  {
   "cell_type": "markdown",
   "metadata": {},
   "source": [
    "### e.\tChoose weights of the WFLY from cointegration analysis (weights correspond to the best cointegrated vector).  Let’s call this combination WFLY2"
   ]
  },
  {
   "cell_type": "markdown",
   "metadata": {},
   "source": [
    "### Method 1 : CCA Chou_Ng"
   ]
  },
  {
   "cell_type": "code",
   "execution_count": 11,
   "metadata": {},
   "outputs": [],
   "source": [
    "def CCA_Chou_Ng(data_set):\n",
    "    \n",
    "    #data_set is pandas dataframe\n",
    "    df_lag = data_set.shift(1).dropna()\n",
    "    df = data_set.drop(data_set.index[0]).dropna()\n",
    "    n = len(data_set.columns)\n",
    "    \n",
    "    #X(t) ~ M_1 + X(t-1)\n",
    "    X = df_lag.as_matrix()\n",
    "    X_I = sm.add_constant(X)\n",
    "    Y = df.as_matrix()\n",
    "    l1 = sm.OLS(Y,X_I).fit()\n",
    "    B=l1.params[1:(n+1)]\n",
    "    \n",
    "    #X(t-1) ~ M_2 + X(t)\n",
    "    Y_I = sm.add_constant(Y)\n",
    "    l2 = sm.OLS(X,Y_I).fit()\n",
    "    A=l2.params[1:(n+1)]\n",
    "    C = np.dot(A,B)\n",
    "    eig_val, eig_vec = np.linalg.eig(C)\n",
    "    return eig_val, eig_vec, C"
   ]
  },
  {
   "cell_type": "code",
   "execution_count": 12,
   "metadata": {},
   "outputs": [
    {
     "name": "stdout",
     "output_type": "stream",
     "text": [
      "          2         1         0\n",
      "0  0.483341 -0.230374 -0.829354\n",
      "1 -0.755827 -0.738025  0.358722\n",
      "2  0.441709  0.634230  0.428357\n",
      "[0.6394853383509581, 0.5844048010737962]\n"
     ]
    },
    {
     "name": "stderr",
     "output_type": "stream",
     "text": [
      "/Users/chenyuwang/anaconda3/lib/python3.6/site-packages/ipykernel_launcher.py:9: FutureWarning: Method .as_matrix will be removed in a future version. Use .values instead.\n",
      "  if __name__ == '__main__':\n",
      "/Users/chenyuwang/anaconda3/lib/python3.6/site-packages/ipykernel_launcher.py:11: FutureWarning: Method .as_matrix will be removed in a future version. Use .values instead.\n",
      "  # This is added back by InteractiveShellApp.init_path()\n"
     ]
    }
   ],
   "source": [
    "### Extract data\n",
    "df1 = sample1[['3 YR', '5 YR', '7 YR']]\n",
    "### Fit CCA_Chou_Ng\n",
    "val, vec, C = CCA_Chou_Ng(df1)\n",
    "### Show the vector\n",
    "n = len(df1.columns)\n",
    "vec = pd.DataFrame(vec)\n",
    "vec = vec.rename(columns=lambda x: n-x-1, inplace=False)\n",
    "print (vec)\n",
    "### Select the best\n",
    "w = vec[2].values\n",
    "w_cca_cn = [-w[0]/w[1],-w[2]/w[1]]\n",
    "print (w_cca_cn)"
   ]
  },
  {
   "cell_type": "code",
   "execution_count": 13,
   "metadata": {},
   "outputs": [
    {
     "data": {
      "text/plain": [
       "array([0.76417648, 0.98934637, 0.99057681])"
      ]
     },
     "execution_count": 13,
     "metadata": {},
     "output_type": "execute_result"
    }
   ],
   "source": [
    "val"
   ]
  },
  {
   "cell_type": "code",
   "execution_count": 14,
   "metadata": {},
   "outputs": [
    {
     "name": "stdout",
     "output_type": "stream",
     "text": [
      "The weight of WFLY2 ChouNg is [0.6394853383509581, -1, 0.5844048010737962]\n"
     ]
    }
   ],
   "source": [
    "Weights_2 = [w_cca_cn[0], -1, w_cca_cn[1]]\n",
    "print(\"The weight of WFLY2 ChouNg is\", Weights_2)"
   ]
  },
  {
   "cell_type": "markdown",
   "metadata": {},
   "source": [
    "### Model 2 : Box & Tiao"
   ]
  },
  {
   "cell_type": "code",
   "execution_count": 15,
   "metadata": {},
   "outputs": [],
   "source": [
    "def Box_Tiao(data):\n",
    "    ### Prepare data\n",
    "    df = data - data.mean()\n",
    "    df1 = df.drop(df.index[0])\n",
    "    df2 = df.shift().dropna()\n",
    "    ### Calculate A\n",
    "    A = (sm.OLS(df1.as_matrix(), df2.as_matrix()).fit()).params\n",
    "    ### Calculate Q\n",
    "    cov = df.cov()\n",
    "    Q = np.dot(np.dot(np.dot(np.linalg.inv(cov), A), cov),A.T)\n",
    "    ### calculate Eigenvector and Eigenvalue\n",
    "    val, vec = np.linalg.eig(Q)\n",
    "    \n",
    "    return val, vec"
   ]
  },
  {
   "cell_type": "code",
   "execution_count": 16,
   "metadata": {},
   "outputs": [
    {
     "name": "stdout",
     "output_type": "stream",
     "text": [
      "          2         1         0\n",
      "0  0.479770 -0.775129  0.620224\n",
      "1 -0.757941 -0.187055 -0.358469\n",
      "2  0.441979  0.603478  0.697726\n",
      "[0.6329908442507073, 0.5831311232226802]\n"
     ]
    },
    {
     "name": "stderr",
     "output_type": "stream",
     "text": [
      "/Users/chenyuwang/anaconda3/lib/python3.6/site-packages/ipykernel_launcher.py:7: FutureWarning: Method .as_matrix will be removed in a future version. Use .values instead.\n",
      "  import sys\n"
     ]
    }
   ],
   "source": [
    "### Get Eigenvalues and Eigenvectors\n",
    "val, vec = Box_Tiao(df1)\n",
    "### Show the Eigenvectors\n",
    "vec = pd.DataFrame(vec)\n",
    "vec = vec.rename(columns=lambda x: n-x-1, inplace=False)\n",
    "print (vec)\n",
    "### Calculate the weight\n",
    "w = vec[2].values\n",
    "w_cca_BT = [-w[0]/w[1],-w[2]/w[1]]\n",
    "print (w_cca_BT)"
   ]
  },
  {
   "cell_type": "code",
   "execution_count": 17,
   "metadata": {},
   "outputs": [
    {
     "data": {
      "text/plain": [
       "array([6.55950426e+02, 9.92244505e-01, 1.15073414e-03])"
      ]
     },
     "execution_count": 17,
     "metadata": {},
     "output_type": "execute_result"
    }
   ],
   "source": [
    "val"
   ]
  },
  {
   "cell_type": "code",
   "execution_count": 18,
   "metadata": {},
   "outputs": [
    {
     "name": "stdout",
     "output_type": "stream",
     "text": [
      "The weight of WFLY2 Box & Tiao is [0.6329908442507073, -1, 0.5831311232226802]\n"
     ]
    }
   ],
   "source": [
    "Weights_3 = [w_cca_BT[0], -1, w_cca_BT[1]]\n",
    "print(\"The weight of WFLY2 Box & Tiao is\", Weights_3)"
   ]
  },
  {
   "cell_type": "markdown",
   "metadata": {},
   "source": [
    "## Q3"
   ]
  },
  {
   "cell_type": "markdown",
   "metadata": {},
   "source": [
    "### Compute Half-Life & ADF statistic for WFLY2 using Sample1"
   ]
  },
  {
   "cell_type": "code",
   "execution_count": 19,
   "metadata": {},
   "outputs": [],
   "source": [
    "### construct the portfolio by CCA_Chou_Ng\n",
    "portfolio = w_cca_cn[0]*sample1.loc[:,'3 YR'] - sample1.loc[:,'5 YR'] + w_cca_cn[1]*sample1.loc[:,'7 YR']"
   ]
  },
  {
   "cell_type": "code",
   "execution_count": 20,
   "metadata": {},
   "outputs": [
    {
     "name": "stdout",
     "output_type": "stream",
     "text": [
      "statistic              -4.915617\n",
      "p-value                 0.000033\n",
      "n_lags                  3.000000\n",
      "n_obs                 851.000000\n",
      "critical_Val (1%)      -3.438058\n",
      "critical_Val (5%)      -2.864942\n",
      "critical_Val (10%)     -2.568582\n",
      "dtype: float64\n"
     ]
    }
   ],
   "source": [
    "### Compute ADF sttatistic for WFLY2\n",
    "from statsmodels.tsa.stattools import adfuller\n",
    "def run_adf_test(ts):\n",
    "    dftest = adfuller(ts, autolag='AIC')\n",
    "    dfoutput = pd.Series(dftest[0:4], index=['statistic','p-value','n_lags','n_obs'])\n",
    "    for key,value in dftest[4].items():\n",
    "        dfoutput['critical_Val (%s)'%key] = value\n",
    "    print(dfoutput)\n",
    "run_adf_test(portfolio)"
   ]
  },
  {
   "cell_type": "markdown",
   "metadata": {},
   "source": [
    "Therefore, the p-value reject non-stationary at 1% level, so the series could be stationary"
   ]
  },
  {
   "cell_type": "markdown",
   "metadata": {},
   "source": [
    "### Compute Half-Life \n",
    "In the paper, we assume they follow an Ornstein-Uhlenbeck process and the parameter lambda is computed as the fomula showed in Appendix. We can compute the half-life:\n",
    "$$\n",
    "h = -\\frac{ln(2)}{ln(|\\lambda|)}\n",
    "$$"
   ]
  },
  {
   "cell_type": "code",
   "execution_count": 51,
   "metadata": {},
   "outputs": [],
   "source": [
    "def Half_Life(ts):\n",
    "    ### Get y_t\n",
    "    ts_shift = ts.drop(ts.index[0])\n",
    "    ### Get y_t-1\n",
    "    ts_back = ts.drop(ts.index[len(ts)-1])\n",
    "    ### Compute mean(miu)\n",
    "    miu = ts_shift.mean()\n",
    "    ### Compute up\n",
    "    ser1 = np.array(ts_shift - miu)\n",
    "    ser2 = np.array(ts_back - miu)\n",
    "    up = 0\n",
    "    for i in range(len(ser1)):\n",
    "        up = up + ser1[i]*ser2[i]\n",
    "    ### Compute down\n",
    "    down = 0\n",
    "    for i in range(len(ser2)):\n",
    "        down = down + ser1[i]*ser1[i]\n",
    "    ### Compute lambda\n",
    "    lam = -np.log(up/down)\n",
    "    ### Compute half-life\n",
    "    h = np.log(2)/lam\n",
    "    return h"
   ]
  },
  {
   "cell_type": "code",
   "execution_count": 52,
   "metadata": {},
   "outputs": [
    {
     "name": "stdout",
     "output_type": "stream",
     "text": [
      "The half_life of WFLY2 is 5.13148171192584\n"
     ]
    }
   ],
   "source": [
    "h = Half_Life_p(portfolio)\n",
    "print('The half_life of WFLY2 is', float(h))"
   ]
  },
  {
   "cell_type": "markdown",
   "metadata": {},
   "source": [
    "## Q4"
   ]
  },
  {
   "cell_type": "markdown",
   "metadata": {},
   "source": [
    "### Repeat Step #3 out-of-sample: using 3m, 6m, 12m out of sample periods"
   ]
  },
  {
   "cell_type": "code",
   "execution_count": 31,
   "metadata": {},
   "outputs": [],
   "source": [
    "### Get 12 month out of sample period\n",
    "m_12 = w_cca_cn[0]*data.loc['15/7/1':'16/6/30','3 YR'] - data.loc['15/7/1':'16/6/30','5 YR'] + w_cca_cn[1]*data.loc['15/7/1':'16/6/30','7 YR']\n",
    "### Get 3 month and 6 month period\n",
    "m_3 = m_12.loc['15/7/1':'15/9/30']\n",
    "m_6 = m_12.loc['15/7/1':'15/12/31']"
   ]
  },
  {
   "cell_type": "markdown",
   "metadata": {},
   "source": [
    "### Using 3m data "
   ]
  },
  {
   "cell_type": "code",
   "execution_count": 32,
   "metadata": {},
   "outputs": [
    {
     "name": "stdout",
     "output_type": "stream",
     "text": [
      "statistic             -1.615530\n",
      "p-value                0.475073\n",
      "n_lags                 2.000000\n",
      "n_obs                 61.000000\n",
      "critical_Val (1%)     -3.542413\n",
      "critical_Val (5%)     -2.910236\n",
      "critical_Val (10%)    -2.592745\n",
      "dtype: float64\n"
     ]
    }
   ],
   "source": [
    "run_adf_test(m_3)"
   ]
  },
  {
   "cell_type": "markdown",
   "metadata": {},
   "source": [
    "The 3m out-of-sample series does not reject the non-stationary hypothesis. So the Series in non-stationary"
   ]
  },
  {
   "cell_type": "code",
   "execution_count": 53,
   "metadata": {},
   "outputs": [
    {
     "name": "stdout",
     "output_type": "stream",
     "text": [
      "The half_life of 3m out of sample WFLY2 is 4.691434622252598\n"
     ]
    }
   ],
   "source": [
    "h_3m = Half_Life(m_3)\n",
    "print('The half_life of 3m out of sample WFLY2 is', float(h_3m))"
   ]
  },
  {
   "cell_type": "markdown",
   "metadata": {},
   "source": [
    "### Using 6m data"
   ]
  },
  {
   "cell_type": "code",
   "execution_count": 34,
   "metadata": {},
   "outputs": [
    {
     "name": "stdout",
     "output_type": "stream",
     "text": [
      "statistic              -0.983976\n",
      "p-value                 0.759064\n",
      "n_lags                  2.000000\n",
      "n_obs                 123.000000\n",
      "critical_Val (1%)      -3.484667\n",
      "critical_Val (5%)      -2.885340\n",
      "critical_Val (10%)     -2.579463\n",
      "dtype: float64\n"
     ]
    }
   ],
   "source": [
    "run_adf_test(m_6)"
   ]
  },
  {
   "cell_type": "markdown",
   "metadata": {},
   "source": [
    "The 6-month out of sample series does not reject the non-stationary hypothesis. So the Series is non-stationary."
   ]
  },
  {
   "cell_type": "code",
   "execution_count": 54,
   "metadata": {},
   "outputs": [
    {
     "name": "stdout",
     "output_type": "stream",
     "text": [
      "The half_life of 6m out of sample WFLY2 is 12.400072567245722\n"
     ]
    }
   ],
   "source": [
    "h_6m = Half_Life(m_6)\n",
    "print('The half_life of 6m out of sample WFLY2 is', float(h_6m))"
   ]
  },
  {
   "cell_type": "markdown",
   "metadata": {},
   "source": [
    "### Using 12m data"
   ]
  },
  {
   "cell_type": "code",
   "execution_count": 36,
   "metadata": {},
   "outputs": [
    {
     "name": "stdout",
     "output_type": "stream",
     "text": [
      "statistic              -1.708992\n",
      "p-value                 0.426486\n",
      "n_lags                  2.000000\n",
      "n_obs                 248.000000\n",
      "critical_Val (1%)      -3.456996\n",
      "critical_Val (5%)      -2.873266\n",
      "critical_Val (10%)     -2.573019\n",
      "dtype: float64\n"
     ]
    }
   ],
   "source": [
    "run_adf_test(m_12)"
   ]
  },
  {
   "cell_type": "markdown",
   "metadata": {},
   "source": [
    "The 12 month out of sample series does not reject the non-stationary hypothsis. So the series is non-stationary"
   ]
  },
  {
   "cell_type": "code",
   "execution_count": 55,
   "metadata": {},
   "outputs": [
    {
     "name": "stdout",
     "output_type": "stream",
     "text": [
      "The half_life of 12m out of sample WFLY2 is 8.095233438621186\n"
     ]
    }
   ],
   "source": [
    "h_12m = Half_Life(m_12)\n",
    "print('The half_life of 12m out of sample WFLY2 is', float(h_12m))"
   ]
  },
  {
   "cell_type": "markdown",
   "metadata": {},
   "source": [
    "### How do out-of-sample results compare across periods and combinations?"
   ]
  },
  {
   "cell_type": "markdown",
   "metadata": {},
   "source": [
    "From the result above, we can easily find that all out of sample series are not stationary. If we use 3-month out of sample data, the half-life is similar to in sample data's half-life. However, if we use 6 month, 12 month, the half-life could be different from in sample one.\n",
    "\n",
    "One of the most important reasons is that the term-structure (we can think it as a pattern) is not stable. The term-structure could be affected by the policies and many other macro factors. So, the term-structuer shown in in-sample data cannot illustrate the term-structure in the future. So, we could see that 3 month out of sample's half-life is similar to the in sample data's half life. Because in the short term, the term-structure( the pattern) will not change too much, to some extent, it's predictable. However, in a long run, the pattern will not be stable."
   ]
  },
  {
   "cell_type": "markdown",
   "metadata": {},
   "source": [
    "## Q5 Read d’Aspremont’s paper: Identifying Small Mean-Reverting Portfolios"
   ]
  },
  {
   "cell_type": "markdown",
   "metadata": {},
   "source": [
    "### a.\tExplain the rationale for sparse decomposition algorithms"
   ]
  },
  {
   "cell_type": "markdown",
   "metadata": {},
   "source": [
    "Previously, classical solutions include cointegration or canonical correlation analysis are used to detect mean reversion and construct portfolios to gain profit in the market. But there are two significant shortcomings of these methods: \n",
    "\n",
    "First: the mean reversion portfolio they identify is dense. However, in reality, in order to reach this condition, there would be considerable transaction costs. \n",
    "\n",
    "Second: from an econometric point of view, this also impacts the interpretability of the resulting portfolio and the significance of the structual relationships it highlights.\n",
    "\n",
    "Third: optimal mean reverting portfoloios often behave like noise and sometimes vary well inside bid-ask spreads, hence do not form meaningful statistical opportunities.\n",
    "\n",
    "So here, the author introduce methods of how to seek sparse portfolios instead."
   ]
  },
  {
   "cell_type": "markdown",
   "metadata": {},
   "source": [
    "The core of the sparse decomposition algotithms is to maximize :\n",
    "$$\n",
    "\\lambda^{max}(A,B) = max \\frac{x^T Ax}{x^T Bx}\n",
    "$$\n",
    "with the subjection:\n",
    "$$\n",
    "Card(x)<= k  ,where ||x|| = 1\n",
    "$$"
   ]
  },
  {
   "cell_type": "markdown",
   "metadata": {},
   "source": [
    "In this paper, the author use 2 efficient techniques to get a good approximate solutions. One is Greedy Search and the other one is Semidifinite relaxation.\n",
    "\n",
    "For Greedy search, the first step is to compute the condition k = 1. Next step is to search for the maximum when k =2 which could be solved as a generalized eigenvalue problem. The, repeat the process until k = n. This recursive process provide the final solution.\n",
    "\n",
    "For Semidefinite relaxation, first, we change the subjection in order to turn it into a quasi-convex program. And this semidefinite program can be solved by SEDUMI."
   ]
  },
  {
   "cell_type": "markdown",
   "metadata": {},
   "source": [
    "### b.\tDescribe & compare results in Figures 1 and 6"
   ]
  },
  {
   "cell_type": "markdown",
   "metadata": {},
   "source": [
    "### Consider the mean-reversion coefficient\n",
    "In Box & Tiao's non-sparse portfolios, mean reversion coefficient is -1 when k =1 and reach 252 when k = 8. However, in sparse porttfolios, mean reversion coefficient reach 252 earlier when k =7 and it's very easy to observe that when k is the same, mean reversion coefficient is much larger than tthe one in Box & Tiao's approach.\n",
    "\n",
    "### Consider the profit\n",
    "The best portfolio under Box & Tiao's approach is when k = 2 and k =4. The profit is about 1~1.3. However, the best portfolio of sparse one is when k = 1 and the profit is over 6. We can also find that when k is under 4, sparse portfolios always performs better than portfolios under Box & Tiao's method. What's more, when k = 8, the two method provide the same portfolio. This result shows that when there are two many assets in the portfolio, the transaction cost and cost caused by illiquidity cannot be ignored which is correspond to what the author talked at the beginning of the paper ( Why we construct sparse portfolio)"
   ]
  },
  {
   "cell_type": "code",
   "execution_count": null,
   "metadata": {},
   "outputs": [],
   "source": []
  }
 ],
 "metadata": {
  "kernelspec": {
   "display_name": "Python 3",
   "language": "python",
   "name": "python3"
  },
  "language_info": {
   "codemirror_mode": {
    "name": "ipython",
    "version": 3
   },
   "file_extension": ".py",
   "mimetype": "text/x-python",
   "name": "python",
   "nbconvert_exporter": "python",
   "pygments_lexer": "ipython3",
   "version": "3.7.3"
  }
 },
 "nbformat": 4,
 "nbformat_minor": 2
}
